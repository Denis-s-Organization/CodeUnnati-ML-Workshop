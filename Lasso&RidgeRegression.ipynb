{
 "cells": [
  {
   "cell_type": "code",
   "execution_count": 3,
   "metadata": {},
   "outputs": [],
   "source": [
    "import numpy as np\n",
    "import pandas as pd\n",
    "import matplotlib.pyplot as plt\n",
    "%matplotlib inline\n",
    "from sklearn.linear_model import LinearRegression, Lasso, Ridge, ElasticNet, SGDRegressor\n",
    "from sklearn.datasets import fetch_california_housing\n",
    "from sklearn.model_selection import train_test_split\n",
    "from sklearn.preprocessing import StandardScaler\n",
    "import statsmodels.api as sm\n",
    "from scipy import stats\n",
    "import warnings\n",
    "warnings.filterwarnings('ignore')"
   ]
  },
  {
   "cell_type": "code",
   "execution_count": 4,
   "metadata": {},
   "outputs": [],
   "source": [
    "def pretty_print_linear(coefs, names = None, sort = False):\n",
    "    if names is None:\n",
    "        names = ['x%s' % x for x in range(len(coefs))]\n",
    "    lst = zip(coefs, names)\n",
    "    if sort:\n",
    "        lst = sorted(lst, key = lambda x:-np.abs(x[0]))\n",
    "    return \" + \".join(\"%s * %s\" % (round(coef, 3), name) for coef, name in lst)"
   ]
  },
  {
   "cell_type": "code",
   "execution_count": 5,
   "metadata": {},
   "outputs": [],
   "source": [
    "def load_data():\n",
    "    boston = fetch_california_housing()\n",
    "    print(boston.DESCR)\n",
    "    X = boston[\"data\"]\n",
    "    Y = boston[\"target\"]\n",
    "    names = boston[\"feature_names\"]\n",
    "    return X, Y, names"
   ]
  },
  {
   "cell_type": "code",
   "execution_count": 6,
   "metadata": {},
   "outputs": [],
   "source": [
    "def scale_data(X):\n",
    "    scaler = StandardScaler()\n",
    "    X = scaler.fit_transform(X)\n",
    "    return X"
   ]
  },
  {
   "cell_type": "code",
   "execution_count": 7,
   "metadata": {},
   "outputs": [],
   "source": [
    "def split_data(X, Y):\n",
    "    X_train, X_test, Y_train, Y_test = train_test_split(X, Y, test_size=0.33, random_state=42)\n",
    "    return X_train, X_test, Y_train, Y_test"
   ]
  },
  {
   "cell_type": "code",
   "execution_count": 8,
   "metadata": {},
   "outputs": [],
   "source": [
    "def root_mean_square_error(y_pred, y_test):\n",
    "    rmse_train = np.sqrt(np.dot(abs(y_pred-y_test), abs(y_pred-y_test))/len(y_test))\n",
    "    return rmse_train"
   ]
  },
  {
   "cell_type": "code",
   "execution_count": 9,
   "metadata": {},
   "outputs": [],
   "source": [
    "def plot_real_vs_predicted(y_pred, y_test):\n",
    "    plt.plot(y_pred, y_test, 'ro')\n",
    "    plt.plot([0, 50], [0, 50], 'g-')\n",
    "    plt.xlabel('Predicted Values')\n",
    "    plt.ylabel('Actual Values')\n",
    "    plt.show()\n",
    "    return plt"
   ]
  },
  {
   "cell_type": "code",
   "execution_count": 25,
   "metadata": {},
   "outputs": [],
   "source": [
    "def generate_regression_values(model, X, y):\n",
    "    params = np.append(model.intercept_, model.coef_)\n",
    "    predictions = model.predict(X)\n",
    "    newX = pd.DataFrame({\"Constant\": np.ones(len(X))}).join(pd.DataFrame(X))\n",
    "    \n",
    "    MSE = (sum((y - predictions) ** 2)) / (len(newX) - len(newX.columns))\n",
    "    \n",
    "    var_b = MSE * (np.linalg.inv(np.dot(newX.T, newX)).diagonal())\n",
    "    sd_b = np.sqrt(var_b)\n",
    "    ts_b = params / sd_b\n",
    "    \n",
    "    p_values = [2 * (1 - stats.t.cdf(np.abs(i), (len(newX) - 1))) for i in ts_b]\n",
    "    \n",
    "    sd_b = np.round(sd_b, 3)\n",
    "    ts_b = np.round(ts_b, 3)\n",
    "    \n",
    "    p_values = np.round(p_values, 3)\n",
    "    \n",
    "    params = np.round(params, 4)\n",
    "    myDF3 = pd.DataFrame()\n",
    "    \n",
    "    myDF3[\"Coefficients\"], myDF3[\"Standard Errors\"], myDF3[\"t values\"], myDF3[\"Probabilities\"] = [params, sd_b, ts_b, p_values]\n",
    "    print(myDF3)"
   ]
  },
  {
   "cell_type": "code",
   "execution_count": 11,
   "metadata": {},
   "outputs": [],
   "source": [
    "np.set_printoptions(precision=2, linewidth=100, suppress=True, edgeitems=2)"
   ]
  },
  {
   "cell_type": "code",
   "execution_count": 13,
   "metadata": {},
   "outputs": [
    {
     "name": "stdout",
     "output_type": "stream",
     "text": [
      ".. _california_housing_dataset:\n",
      "\n",
      "California Housing dataset\n",
      "--------------------------\n",
      "\n",
      "**Data Set Characteristics:**\n",
      "\n",
      ":Number of Instances: 20640\n",
      "\n",
      ":Number of Attributes: 8 numeric, predictive attributes and the target\n",
      "\n",
      ":Attribute Information:\n",
      "    - MedInc        median income in block group\n",
      "    - HouseAge      median house age in block group\n",
      "    - AveRooms      average number of rooms per household\n",
      "    - AveBedrms     average number of bedrooms per household\n",
      "    - Population    block group population\n",
      "    - AveOccup      average number of household members\n",
      "    - Latitude      block group latitude\n",
      "    - Longitude     block group longitude\n",
      "\n",
      ":Missing Attribute Values: None\n",
      "\n",
      "This dataset was obtained from the StatLib repository.\n",
      "https://www.dcc.fc.up.pt/~ltorgo/Regression/cal_housing.html\n",
      "\n",
      "The target variable is the median house value for California districts,\n",
      "expressed in hundreds of thousands of dollars ($100,000).\n",
      "\n",
      "This dataset was derived from the 1990 U.S. census, using one row per census\n",
      "block group. A block group is the smallest geographical unit for which the U.S.\n",
      "Census Bureau publishes sample data (a block group typically has a population\n",
      "of 600 to 3,000 people).\n",
      "\n",
      "A household is a group of people residing within a home. Since the average\n",
      "number of rooms and bedrooms in this dataset are provided per household, these\n",
      "columns may take surprisingly large values for block groups with few households\n",
      "and many empty houses, such as vacation resorts.\n",
      "\n",
      "It can be downloaded/loaded using the\n",
      ":func:`sklearn.datasets.fetch_california_housing` function.\n",
      "\n",
      ".. rubric:: References\n",
      "\n",
      "- Pace, R. Kelley and Ronald Barry, Sparse Spatial Autoregressions,\n",
      "  Statistics and Probability Letters, 33 (1997) 291-297\n",
      "\n"
     ]
    }
   ],
   "source": [
    "X, Y, names = load_data()"
   ]
  },
  {
   "cell_type": "code",
   "execution_count": 18,
   "metadata": {},
   "outputs": [
    {
     "data": {
      "text/plain": [
       "array([[   8.33,   41.  ,    6.98,    1.02,  322.  ,    2.56,   37.88, -122.23],\n",
       "       [   8.3 ,   21.  ,    6.24,    0.97, 2401.  ,    2.11,   37.86, -122.22],\n",
       "       [   7.26,   52.  ,    8.29,    1.07,  496.  ,    2.8 ,   37.85, -122.24],\n",
       "       [   5.64,   52.  ,    5.82,    1.07,  558.  ,    2.55,   37.85, -122.25],\n",
       "       [   3.85,   52.  ,    6.28,    1.08,  565.  ,    2.18,   37.85, -122.25]])"
      ]
     },
     "execution_count": 18,
     "metadata": {},
     "output_type": "execute_result"
    }
   ],
   "source": [
    "X[0:5]"
   ]
  },
  {
   "cell_type": "code",
   "execution_count": 19,
   "metadata": {},
   "outputs": [
    {
     "data": {
      "text/plain": [
       "array([4.53, 3.58, 3.52, 3.41, 3.42])"
      ]
     },
     "execution_count": 19,
     "metadata": {},
     "output_type": "execute_result"
    }
   ],
   "source": [
    "Y[0:5]"
   ]
  },
  {
   "cell_type": "code",
   "execution_count": 20,
   "metadata": {},
   "outputs": [
    {
     "data": {
      "text/plain": [
       "['MedInc',\n",
       " 'HouseAge',\n",
       " 'AveRooms',\n",
       " 'AveBedrms',\n",
       " 'Population',\n",
       " 'AveOccup',\n",
       " 'Latitude',\n",
       " 'Longitude']"
      ]
     },
     "execution_count": 20,
     "metadata": {},
     "output_type": "execute_result"
    }
   ],
   "source": [
    "names"
   ]
  },
  {
   "cell_type": "code",
   "execution_count": 21,
   "metadata": {},
   "outputs": [],
   "source": [
    "X = scale_data(X)"
   ]
  },
  {
   "cell_type": "code",
   "execution_count": 22,
   "metadata": {},
   "outputs": [],
   "source": [
    "x_train, X_test, Y_train, Y_test = split_data(X, Y)"
   ]
  },
  {
   "cell_type": "code",
   "execution_count": 23,
   "metadata": {},
   "outputs": [
    {
     "name": "stdout",
     "output_type": "stream",
     "text": [
      "Linear model:  -0.895 * Latitude + -0.87 * Longitude + 0.845 * MedInc + 0.369 * AveBedrms + -0.302 * AveRooms + 0.12 * HouseAge + -0.034 * AveOccup + -0.0 * Population\n",
      "Root Mean Square Error: 0.7327814505957735\n"
     ]
    },
    {
     "data": {
      "image/png": "[encoded data removed]",
      "text/plain": [
       "<Figure size 640x480 with 1 Axes>"
      ]
     },
     "metadata": {},
     "output_type": "display_data"
    },
    {
     "data": {
      "text/plain": [
       "<module 'matplotlib.pyplot' from 'e:\\\\Python\\\\Lib\\\\site-packages\\\\matplotlib\\\\pyplot.py'>"
      ]
     },
     "execution_count": 23,
     "metadata": {},
     "output_type": "execute_result"
    }
   ],
   "source": [
    "linreg = LinearRegression()\n",
    "\n",
    "linreg.fit(x_train, Y_train)\n",
    "\n",
    "print(\"Linear model: \", pretty_print_linear(linreg.coef_, names, sort=True))\n",
    "\n",
    "Y_lin_predict = linreg.predict(X_test)\n",
    "\n",
    "print(\"Root Mean Square Error: {}\".format(root_mean_square_error(Y_lin_predict, Y_test)))\n",
    "plot_real_vs_predicted(Y_test, Y_lin_predict)"
   ]
  },
  {
   "cell_type": "code",
   "execution_count": 26,
   "metadata": {},
   "outputs": [
    {
     "name": "stdout",
     "output_type": "stream",
     "text": [
      "   Coefficients  Standard Errors  t values  Probabilities\n",
      "0        2.0666            0.009   231.754          0.000\n",
      "1        0.8452            0.015    57.826          0.000\n",
      "2        0.1202            0.010    12.064          0.000\n",
      "3       -0.3018            0.027   -11.218          0.000\n",
      "4        0.3692            0.023    16.399          0.000\n",
      "5       -0.0001            0.010    -0.009          0.993\n",
      "6       -0.0343            0.064    -0.538          0.591\n",
      "7       -0.8952            0.028   -32.372          0.000\n",
      "8       -0.8697            0.027   -32.004          0.000\n"
     ]
    }
   ],
   "source": [
    "generate_regression_values(linreg, X_test, Y_test)"
   ]
  },
  {
   "cell_type": "code",
   "execution_count": 27,
   "metadata": {},
   "outputs": [
    {
     "name": "stdout",
     "output_type": "stream",
     "text": [
      "Lasso model:  0.494 * MedInc + 0.0 * HouseAge + 0.0 * AveRooms + -0.0 * AveBedrms + -0.0 * Population + -0.0 * AveOccup + -0.0 * Latitude + -0.0 * Longitude\n",
      "Root Mean Square Error: 0.890909219470407\n"
     ]
    },
    {
     "data": {
      "image/png": "[encoded data removed]",
      "text/plain": [
       "<Figure size 640x480 with 1 Axes>"
      ]
     },
     "metadata": {},
     "output_type": "display_data"
    },
    {
     "data": {
      "text/plain": [
       "<module 'matplotlib.pyplot' from 'e:\\\\Python\\\\Lib\\\\site-packages\\\\matplotlib\\\\pyplot.py'>"
      ]
     },
     "execution_count": 27,
     "metadata": {},
     "output_type": "execute_result"
    }
   ],
   "source": [
    "lasso = Lasso(alpha=.3)\n",
    "\n",
    "lasso.fit(x_train, Y_train)\n",
    "\n",
    "print(\"Lasso model: \", pretty_print_linear(lasso.coef_, names, sort=True))\n",
    "\n",
    "Y_lin_predict = lasso.predict(X_test)\n",
    "\n",
    "print(\"Root Mean Square Error: {}\".format(root_mean_square_error(Y_lin_predict, Y_test)))\n",
    "plot_real_vs_predicted(Y_test, Y_lin_predict)"
   ]
  },
  {
   "cell_type": "code",
   "execution_count": 28,
   "metadata": {},
   "outputs": [
    {
     "name": "stdout",
     "output_type": "stream",
     "text": [
      "   Coefficients  Standard Errors  t values  Probabilities\n",
      "0        2.0651            0.011   190.480            0.0\n",
      "1        0.4938            0.018    27.792            0.0\n",
      "2        0.0000            0.012     0.000            1.0\n",
      "3        0.0000            0.033     0.000            1.0\n",
      "4       -0.0000            0.027    -0.000            1.0\n",
      "5       -0.0000            0.012    -0.000            1.0\n",
      "6       -0.0000            0.077    -0.000            1.0\n",
      "7       -0.0000            0.034    -0.000            1.0\n",
      "8       -0.0000            0.033    -0.000            1.0\n"
     ]
    }
   ],
   "source": [
    "generate_regression_values(lasso, X_test, Y_test)"
   ]
  }
 ],
 "metadata": {
  "kernelspec": {
   "display_name": "Python 3",
   "language": "python",
   "name": "python3"
  },
  "language_info": {
   "codemirror_mode": {
    "name": "ipython",
    "version": 3
   },
   "file_extension": ".py",
   "mimetype": "text/x-python",
   "name": "python",
   "nbconvert_exporter": "python",
   "pygments_lexer": "ipython3",
   "version": "3.12.0"
  }
 },
 "nbformat": 4,
 "nbformat_minor": 2
}
